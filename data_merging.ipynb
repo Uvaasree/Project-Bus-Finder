{
 "cells": [
  {
   "cell_type": "code",
   "execution_count": 37,
   "metadata": {},
   "outputs": [],
   "source": [
    "import pandas as pd"
   ]
  },
  {
   "cell_type": "code",
   "execution_count": 38,
   "metadata": {},
   "outputs": [],
   "source": [
    "#reading data files\n",
    "a=pd.read_csv(\"ap.csv\")\n",
    "b=pd.read_csv(\"bsrtc.csv\")\n",
    "c=pd.read_csv('ctu.csv')\n",
    "d=pd.read_csv(\"hrtc.csv\")\n",
    "e=pd.read_csv(\"northbengal.csv\")\n",
    "f=pd.read_csv(\"pepsu.csv\")\n",
    "g=pd.read_csv(\"red.csv\")\n",
    "h=pd.read_csv(\"rsrtc.csv\", encoding='ISO-8859-1') \n",
    "i=pd.read_csv(\"sbstc.csv\")\n",
    "j=pd.read_csv('tsrtc.csv')\n",
    "k=pd.read_csv('upsrtc.csv')\n",
    "l=pd.read_csv('wbtc.csv')\n",
    "m=pd.read_csv('westbengal.csv')"
   ]
  },
  {
   "cell_type": "code",
   "execution_count": 39,
   "metadata": {},
   "outputs": [],
   "source": [
    "#merging files\n",
    "df=pd.concat([a,b,c,d,e,f,g,h,i,j,l,m])"
   ]
  },
  {
   "cell_type": "code",
   "execution_count": 40,
   "metadata": {},
   "outputs": [],
   "source": [
    "#droping empty data\n",
    "df1=df.dropna()"
   ]
  },
  {
   "cell_type": "code",
   "execution_count": 41,
   "metadata": {},
   "outputs": [
    {
     "name": "stderr",
     "output_type": "stream",
     "text": [
      "C:\\Users\\91866\\AppData\\Local\\Temp\\ipykernel_2656\\405487831.py:2: SettingWithCopyWarning: \n",
      "A value is trying to be set on a copy of a slice from a DataFrame\n",
      "\n",
      "See the caveats in the documentation: https://pandas.pydata.org/pandas-docs/stable/user_guide/indexing.html#returning-a-view-versus-a-copy\n",
      "  df1.drop(columns=['Unnamed: 0'], inplace=True)\n"
     ]
    }
   ],
   "source": [
    "#droping unnecessary columns\n",
    "df1.drop(columns=['Unnamed: 0'], inplace=True)\n"
   ]
  },
  {
   "cell_type": "code",
   "execution_count": 42,
   "metadata": {},
   "outputs": [
    {
     "name": "stderr",
     "output_type": "stream",
     "text": [
      "C:\\Users\\91866\\AppData\\Local\\Temp\\ipykernel_2656\\3625654232.py:4: SettingWithCopyWarning: \n",
      "A value is trying to be set on a copy of a slice from a DataFrame\n",
      "\n",
      "See the caveats in the documentation: https://pandas.pydata.org/pandas-docs/stable/user_guide/indexing.html#returning-a-view-versus-a-copy\n",
      "  df1.loc[index, 'Price'] = split_value[1]  # Update with second word\n",
      "C:\\Users\\91866\\AppData\\Local\\Temp\\ipykernel_2656\\3625654232.py:6: SettingWithCopyWarning: \n",
      "A value is trying to be set on a copy of a slice from a DataFrame\n",
      "\n",
      "See the caveats in the documentation: https://pandas.pydata.org/pandas-docs/stable/user_guide/indexing.html#returning-a-view-versus-a-copy\n",
      "  df1.loc[index, 'Price'] = value  # Keep original value if no space\n"
     ]
    }
   ],
   "source": [
    "for index, value in df1['Price'].items():\n",
    "    split_value = value.split()\n",
    "    if len(split_value) > 1:\n",
    "        df1.loc[index, 'Price'] = split_value[1]  # Update with second word\n",
    "    else:\n",
    "        df1.loc[index, 'Price'] = value  # Keep original value if no space\n",
    "\n"
   ]
  },
  {
   "cell_type": "code",
   "execution_count": 43,
   "metadata": {},
   "outputs": [
    {
     "name": "stderr",
     "output_type": "stream",
     "text": [
      "C:\\Users\\91866\\AppData\\Local\\Temp\\ipykernel_2656\\2137722277.py:2: SettingWithCopyWarning: \n",
      "A value is trying to be set on a copy of a slice from a DataFrame.\n",
      "Try using .loc[row_indexer,col_indexer] = value instead\n",
      "\n",
      "See the caveats in the documentation: https://pandas.pydata.org/pandas-docs/stable/user_guide/indexing.html#returning-a-view-versus-a-copy\n",
      "  df1['Ratings']=df1['Ratings'].str.split().str[0]\n"
     ]
    }
   ],
   "source": [
    "# cleaning the ratings column\n",
    "df1['Ratings']=df1['Ratings'].str.split().str[0]"
   ]
  },
  {
   "cell_type": "code",
   "execution_count": 44,
   "metadata": {},
   "outputs": [],
   "source": [
    "df1.to_csv(\"combined.csv\")"
   ]
  },
  {
   "cell_type": "code",
   "execution_count": 45,
   "metadata": {},
   "outputs": [],
   "source": [
    "import pymysql"
   ]
  },
  {
   "cell_type": "code",
   "execution_count": 46,
   "metadata": {},
   "outputs": [],
   "source": [
    "#connecting to mysql\n",
    "myconnection = pymysql.connect(host='127.0.0.1',user='root',passwd='Mysql@1')"
   ]
  },
  {
   "cell_type": "code",
   "execution_count": 47,
   "metadata": {},
   "outputs": [
    {
     "name": "stdout",
     "output_type": "stream",
     "text": [
      "Bus_name object\n",
      "Bus_type object\n",
      "Start_time object\n",
      "End_time object\n",
      "Total_duration object\n",
      "Price object\n",
      "Seats_Available object\n",
      "Ratings object\n",
      "Route_link object\n",
      "Route_name object\n"
     ]
    }
   ],
   "source": [
    "#printing datatypes of the columns\n",
    "for i,j in  zip(df1.columns,df1.dtypes):\n",
    "    print(i,j)"
   ]
  },
  {
   "cell_type": "code",
   "execution_count": 48,
   "metadata": {},
   "outputs": [],
   "source": [
    "#creating column names and it datatypes\n",
    "columns= 'Bus_name VARCHAR(255),Bus_type VARCHAR(255),Start_time time,End_time time,Total_duration VARCHAR(50),Price varchar(50),Seats_Available VARCHAR(50),Ratings varchar(50),Route_link VARCHAR(255),Route_name VARCHAR(255)'"
   ]
  },
  {
   "cell_type": "code",
   "execution_count": 49,
   "metadata": {},
   "outputs": [
    {
     "data": {
      "text/plain": [
       "0"
      ]
     },
     "execution_count": 49,
     "metadata": {},
     "output_type": "execute_result"
    }
   ],
   "source": [
    "#creating database\n",
    "myconnection.cursor().execute(\"use redbusproject\")"
   ]
  },
  {
   "cell_type": "code",
   "execution_count": 50,
   "metadata": {},
   "outputs": [
    {
     "data": {
      "text/plain": [
       "0"
      ]
     },
     "execution_count": 50,
     "metadata": {},
     "output_type": "execute_result"
    }
   ],
   "source": [
    "myconnection.cursor().execute(f\"drop table redbusproject.buses\")"
   ]
  },
  {
   "cell_type": "code",
   "execution_count": 51,
   "metadata": {},
   "outputs": [
    {
     "data": {
      "text/plain": [
       "0"
      ]
     },
     "execution_count": 51,
     "metadata": {},
     "output_type": "execute_result"
    }
   ],
   "source": [
    "#creating table\n",
    "myconnection.cursor().execute(f\"create table redbusproject.buses({columns})\")"
   ]
  },
  {
   "cell_type": "code",
   "execution_count": 52,
   "metadata": {},
   "outputs": [],
   "source": [
    "#adding values to the table\n",
    "for i in range(len(df1)):\n",
    "    myconnection.cursor().execute(f\"insert into redbusproject.buses value {tuple(df1.iloc[i])}\")\n",
    "    myconnection.commit()"
   ]
  }
 ],
 "metadata": {
  "kernelspec": {
   "display_name": "Python 3",
   "language": "python",
   "name": "python3"
  },
  "language_info": {
   "codemirror_mode": {
    "name": "ipython",
    "version": 3
   },
   "file_extension": ".py",
   "mimetype": "text/x-python",
   "name": "python",
   "nbconvert_exporter": "python",
   "pygments_lexer": "ipython3",
   "version": "3.12.5"
  }
 },
 "nbformat": 4,
 "nbformat_minor": 2
}
